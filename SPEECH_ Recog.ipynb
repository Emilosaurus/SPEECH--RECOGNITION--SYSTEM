{
 "cells": [
  {
   "cell_type": "markdown",
   "id": "b802eb52",
   "metadata": {},
   "source": [
    "Load the Pretrained Model Pipeline"
   ]
  },
  {
   "cell_type": "code",
   "execution_count": 6,
   "id": "e602c4ec",
   "metadata": {},
   "outputs": [
    {
     "name": "stderr",
     "output_type": "stream",
     "text": [
      "Device set to use cuda:0\n",
      "d:\\JUNK\\Anaconda\\Miniconda\\envs\\mypytorchenv\\lib\\site-packages\\transformers\\models\\whisper\\generation_whisper.py:573: FutureWarning: The input name `inputs` is deprecated. Please make sure to use `input_features` instead.\n",
      "  warnings.warn(\n",
      "Due to a bug fix in https://github.com/huggingface/transformers/pull/28687 transcription using a multilingual Whisper will default to language detection followed by transcription instead of translation to English.This might be a breaking change for your use case. If you want to instead always translate your audio to English, make sure to pass `language='en'`.\n"
     ]
    },
    {
     "name": "stdout",
     "output_type": "stream",
     "text": [
      "\n",
      "📝 Transcription:\n",
      "\n",
      " What if you could push leads sitting in your CRM directly into a deal-making marketplace with one click? That's exactly what REI Conveyor Belt does. It's the only real estate CRM built to send your data straight to a powerhouse platform. Here's how we are changing the real estate game. A single click moves the lead into HomeDISPO as a draft listing, instantly opening it to a nationwide network of investors, agents, lenders, and contractors for real-time collaboration. Source-Qualify JV partners, execute JV agreements on platform, and assemble the ideal team to drive the transaction to closing. Now, you and your team complete insight and control over every element. Property details, deal structure, contracts, documents, photos, videos, comps, underwriting, and threaded conversations is managed from a single centralized workspace. Then publish the listing, watch buyer interest and offers roll-in live, chat with prospects through the built-in messenger, handle negotiations and counteroffers in the deal tracker, and usher the transaction smoothly to closing. All without leaving the platform. Publish the listing to the marketplace, track buyer activity and offers in real time, message interested parties through the built-in chat, manage negotiations in the deal tracker, and steer the transaction to a smooth closing. All on one platform.\n"
     ]
    }
   ],
   "source": [
    "from transformers import pipeline\n",
    "\n",
    "# Use \"openai/whisper-medium\" or \"openai/whisper-large\"\n",
    "asr = pipeline(\"automatic-speech-recognition\", model=\"openai/whisper-medium\")\n",
    "\n",
    "# Provide path to your MP3 file\n",
    "file_path = \"Sample Audio.mp3\"\n",
    "\n",
    "# Transcribe the audio\n",
    "result = asr(file_path,return_timestamps=True)\n",
    "\n",
    "# Print nicely formatted paragraph\n",
    "print(\"\\n📝 Transcription:\\n\")\n",
    "print(result[\"text\"])\n"
   ]
  },
  {
   "cell_type": "code",
   "execution_count": null,
   "id": "98677b89",
   "metadata": {},
   "outputs": [
    {
     "name": "stderr",
     "output_type": "stream",
     "text": [
      "Device set to use cuda:0\n",
      "d:\\JUNK\\Anaconda\\Miniconda\\envs\\mypytorchenv\\lib\\site-packages\\huggingface_hub\\file_download.py:143: UserWarning: `huggingface_hub` cache-system uses symlinks by default to efficiently store duplicated files but your machine does not support them in C:\\Users\\Emil Saj Abraham\\.cache\\huggingface\\hub\\models--oliverguhr--fullstop-punctuation-multilang-large. Caching files will still work but in a degraded version that might require more space on your disk. This warning can be disabled by setting the `HF_HUB_DISABLE_SYMLINKS_WARNING` environment variable. For more details, see https://huggingface.co/docs/huggingface_hub/how-to-cache#limitations.\n",
      "To support symlinks on Windows, you either need to activate Developer Mode or to run Python as an administrator. In order to activate developer mode, see this article: https://docs.microsoft.com/en-us/windows/apps/get-started/enable-your-device-for-development\n",
      "  warnings.warn(message)\n",
      "Xet Storage is enabled for this repo, but the 'hf_xet' package is not installed. Falling back to regular HTTP download. For better performance, install the package with: `pip install huggingface_hub[hf_xet]` or `pip install hf_xet`\n",
      "Xet Storage is enabled for this repo, but the 'hf_xet' package is not installed. Falling back to regular HTTP download. For better performance, install the package with: `pip install huggingface_hub[hf_xet]` or `pip install hf_xet`\n",
      "Xet Storage is enabled for this repo, but the 'hf_xet' package is not installed. Falling back to regular HTTP download. For better performance, install the package with: `pip install huggingface_hub[hf_xet]` or `pip install hf_xet`\n",
      "Device set to use cuda:0\n",
      "d:\\JUNK\\Anaconda\\Miniconda\\envs\\mypytorchenv\\lib\\site-packages\\transformers\\pipelines\\token_classification.py:170: UserWarning: `grouped_entities` is deprecated and will be removed in version v5.0.0, defaulted to `aggregation_strategy=\"none\"` instead.\n",
      "  warnings.warn(\n"
     ]
    }
   ],
   "source": [
    "from transformers import pipeline\n",
    "from deepmultilingualpunctuation import PunctuationModel\n",
    "import textwrap\n",
    "\n",
    "# Step 1: Load Whisper model\n",
    "asr = pipeline(\"automatic-speech-recognition\", model=\"openai/whisper-medium\")\n",
    "\n",
    "# Step 2: Load punctuation model\n",
    "punct_model = PunctuationModel()\n",
    "\n",
    "# Step 3: Transcribe the audio (with timestamps if needed)\n",
    "file_path = \"Sample Audio.mp3\"\n",
    "result = asr(file_path, return_timestamps=True)\n",
    "\n",
    "# Step 4: Extract raw text\n",
    "raw_text = result[\"text\"]\n",
    "\n",
    "# Step 5: Add punctuation\n",
    "punctuated_text = punct_model.restore_punctuation(raw_text)\n",
    "\n",
    "# Step 6: Format into readable paragraphs\n",
    "def format_paragraphs(text, max_length=300):\n",
    "    sentences = text.replace(\"?\", \".\").replace(\"!\", \".\").split(\".\")\n",
    "    sentences = [s.strip() for s in sentences if s.strip()]\n",
    "    \n",
    "    paragraphs = []\n",
    "    paragraph = \"\"\n",
    "    for sentence in sentences:\n",
    "        if len(paragraph) + len(sentence) < max_length:\n",
    "            paragraph += sentence + \". \"\n",
    "        else:\n",
    "            paragraphs.append(paragraph.strip())\n",
    "            paragraph = sentence + \". \"\n",
    "    if paragraph:\n",
    "        paragraphs.append(paragraph.strip())\n",
    "\n",
    "    return \"\\n\\n\".join(paragraphs)\n",
    "\n",
    "formatted_text = format_paragraphs(punctuated_text)\n",
    "\n",
    "# Step 7: Print the final output\n",
    "print(\"\\n📝 Final Formatted Transcription:\\n\")\n",
    "print(formatted_text)\n"
   ]
  }
 ],
 "metadata": {
  "kernelspec": {
   "display_name": "mypytorchenv",
   "language": "python",
   "name": "python3"
  },
  "language_info": {
   "codemirror_mode": {
    "name": "ipython",
    "version": 3
   },
   "file_extension": ".py",
   "mimetype": "text/x-python",
   "name": "python",
   "nbconvert_exporter": "python",
   "pygments_lexer": "ipython3",
   "version": "3.9.20"
  }
 },
 "nbformat": 4,
 "nbformat_minor": 5
}
